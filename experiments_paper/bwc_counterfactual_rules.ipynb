{
 "cells": [
  {
   "cell_type": "markdown",
   "id": "cadc2b51",
   "metadata": {},
   "source": [
    "### Load the data and train ACXplainer to generate Counterfactual Rules"
   ]
  },
  {
   "cell_type": "code",
   "execution_count": 1,
   "id": "b8ac2a60",
   "metadata": {
    "scrolled": true
   },
   "outputs": [
    {
     "name": "stdout",
     "output_type": "stream",
     "text": [
      "* Classifier: LightGBM\n",
      "\t* n_estimators: 50\n",
      "\t* num_leaves: 8\n",
      "# Trained ACXplainer -- score = 0.9649122807017544\n"
     ]
    }
   ],
   "source": [
    "import numpy as np\n",
    "from acv_explainers import ACXplainer\n",
    "from acv_explainers.utils import *\n",
    "from sklearn.linear_model import LogisticRegression\n",
    "from lightgbm import LGBMClassifier\n",
    "from utils import MyTabNetClassifier\n",
    "from utils import DatasetHelper, DATASETS_NAME\n",
    "from sklearn.metrics import roc_auc_score, accuracy_score\n",
    "from sklearn.datasets import load_breast_cancer\n",
    "from sklearn.ensemble import IsolationForest\n",
    "from sklearn.model_selection import train_test_split\n",
    "import pandas as pd\n",
    "import numpy as np\n",
    "import warnings\n",
    "warnings.filterwarnings('ignore')\n",
    "\n",
    "model= 'X'\n",
    "np.random.seed(0)\n",
    "\n",
    "if(model=='L'):\n",
    "    print('* Classifier: LogisticRegression')\n",
    "    mdl = LogisticRegression(penalty='l2', C=1.0, solver='liblinear')\n",
    "    print('\\t* C: {}'.format(mdl.C)); print('\\t* penalty: {}'.format(mdl.penalty));\n",
    "elif(model=='X'):\n",
    "    print('* Classifier: LightGBM')\n",
    "    mdl = LGBMClassifier(n_estimators=50, num_leaves=8)\n",
    "    print('\\t* n_estimators: {}'.format(mdl.n_estimators)); print('\\t* num_leaves: {}'.format(mdl.num_leaves));\n",
    "elif(model=='T'):\n",
    "    print('* Classifier: TabNet')\n",
    "    mdl = MyTabNetClassifier(D.feature_types, verbose=0)\n",
    "\n",
    "seed = 2022    \n",
    "X, y = load_breast_cancer(return_X_y=True, as_frame=True)\n",
    "X_tr, X_ts, y_tr, y_ts = train_test_split(X, y, test_size=0.20, random_state=seed)\n",
    "\n",
    "isolation = IsolationForest()\n",
    "isolation.fit(X_tr)\n",
    "\n",
    "mdl = LGBMClassifier(n_estimators=50, num_leaves=8)\n",
    "mdl.fit(X_tr, y_tr)\n",
    "\n",
    "x_train = X_tr.copy()\n",
    "x_test = X_ts.copy()\n",
    "\n",
    "y_train = mdl.predict(X_tr)\n",
    "y_test = mdl.predict(X_ts)\n",
    "\n",
    "\n",
    "x_train = x_train.values\n",
    "x_test = x_test.values\n",
    "\n",
    "### Train Explainer (ACXplainer)\n",
    "ac_explainer = ACXplainer(classifier=True, n_estimators=20, max_depth=8)\n",
    "ac_explainer.fit(x_train, y_train)\n",
    "\n",
    "print('# Trained ACXplainer -- score = {}'.format(accuracy_score(y_test, ac_explainer.predict(x_test))))\n",
    "\n",
    "x, y = x_test[:500], y_test[:500]\n",
    "x_rules, y_rules = x_train[:1000], y_train[:1000]\n",
    "\n",
    "columns_name = [col.replace(' ', '') for col in X_tr.columns]"
   ]
  },
  {
   "cell_type": "code",
   "execution_count": 2,
   "id": "92c87595",
   "metadata": {},
   "outputs": [],
   "source": [
    "results = RunExperiments(ac_explainer, x_train, x_test, y_train, y_test, columns_name, model=mdl)"
   ]
  },
  {
   "cell_type": "code",
   "execution_count": 3,
   "id": "c15177cd",
   "metadata": {},
   "outputs": [
    {
     "name": "stdout",
     "output_type": "stream",
     "text": [
      "### Computing the local divergent set of (x, y)\n"
     ]
    },
    {
     "name": "stderr",
     "output_type": "stream",
     "text": [
      "100%|██████████████████████████████████████████| 20/20 [00:00<00:00, 400.73it/s]\n",
      "100%|███████████████████████████████████████████| 10/10 [00:34<00:00,  3.42s/it]\n"
     ]
    }
   ],
   "source": [
    "results.run_local_divergent_set(x, y)"
   ]
  },
  {
   "cell_type": "code",
   "execution_count": 4,
   "id": "25f993de",
   "metadata": {},
   "outputs": [
    {
     "name": "stdout",
     "output_type": "stream",
     "text": [
      "### Computing the local counterfactual rules of (x, y)\n"
     ]
    },
    {
     "name": "stderr",
     "output_type": "stream",
     "text": [
      "100%|█████████████████████████████████████████| 114/114 [02:06<00:00,  1.11s/it]\n"
     ]
    }
   ],
   "source": [
    "results.run_local_counterfactual_rules(x, y, acc_level=0.9, pi_level=0.9)"
   ]
  },
  {
   "cell_type": "code",
   "execution_count": 5,
   "id": "a6d80a05",
   "metadata": {},
   "outputs": [
    {
     "name": "stdout",
     "output_type": "stream",
     "text": [
      "### Computing the local counterfactual rules of (x, y)\n"
     ]
    },
    {
     "name": "stderr",
     "output_type": "stream",
     "text": [
      "100%|█████████████████████████████████████████| 114/114 [01:58<00:00,  1.04s/it]\n"
     ]
    }
   ],
   "source": [
    "results.run_local_counterfactual_rules(x, y, acc_level=0.9, pi_level=0.9)"
   ]
  },
  {
   "cell_type": "code",
   "execution_count": 6,
   "id": "c4e68231",
   "metadata": {},
   "outputs": [
    {
     "name": "stdout",
     "output_type": "stream",
     "text": [
      "### Sampling using the local counterfactual rules of (x, y)\n"
     ]
    },
    {
     "name": "stderr",
     "output_type": "stream",
     "text": [
      "100%|█████████████████████████████████████████| 114/114 [00:56<00:00,  2.01it/s]\n"
     ]
    }
   ],
   "source": [
    "results.run_sampling_local_counterfactuals(x, y, batch=1000, max_iter=1000, temp=0.5)"
   ]
  },
  {
   "cell_type": "code",
   "execution_count": 7,
   "id": "359ddfdd",
   "metadata": {},
   "outputs": [
    {
     "name": "stdout",
     "output_type": "stream",
     "text": [
      "Local Accuracy = 0.9565217391304348 -- Local Coverage = 0.20175438596491227\n"
     ]
    }
   ],
   "source": [
    "print('Local Accuracy = {} -- Local Coverage = {}'.format(results.accuracy_local, results.coverage_local))"
   ]
  },
  {
   "cell_type": "code",
   "execution_count": 8,
   "id": "74a29a4a",
   "metadata": {},
   "outputs": [
    {
     "name": "stdout",
     "output_type": "stream",
     "text": [
      "### Computing the Sufficient Explanations and the Sufficient Rules\n"
     ]
    },
    {
     "name": "stderr",
     "output_type": "stream",
     "text": [
      "100%|███████████████████████████████████████████| 10/10 [00:08<00:00,  1.21it/s]\n",
      "100%|█████████████████████████████████████████| 455/455 [00:46<00:00,  9.74it/s]\n"
     ]
    }
   ],
   "source": [
    "results.run_sufficient_rules(x_rules, y_rules, pi_level=0.8)"
   ]
  },
  {
   "cell_type": "code",
   "execution_count": 9,
   "id": "3f48f3b6",
   "metadata": {},
   "outputs": [
    {
     "name": "stdout",
     "output_type": "stream",
     "text": [
      "### Computing the regional divergent set of (x, y)\n"
     ]
    },
    {
     "name": "stderr",
     "output_type": "stream",
     "text": [
      "100%|███████████████████████████████████████████| 10/10 [01:30<00:00,  9.00s/it]\n"
     ]
    }
   ],
   "source": [
    "results.run_regional_divergent_set(stop=True, pi_level=0.8)"
   ]
  },
  {
   "cell_type": "code",
   "execution_count": 10,
   "id": "565d7c13",
   "metadata": {},
   "outputs": [
    {
     "name": "stdout",
     "output_type": "stream",
     "text": [
      "### Computing the regional counterfactual rules of (x, y)\n"
     ]
    },
    {
     "name": "stderr",
     "output_type": "stream",
     "text": [
      "100%|█████████████████████████████████████████| 455/455 [07:21<00:00,  1.03it/s]\n"
     ]
    }
   ],
   "source": [
    "results.run_regional_counterfactual_rules(acc_level=0.8, pi_level=0.8)"
   ]
  },
  {
   "cell_type": "code",
   "execution_count": 11,
   "id": "d9eac775",
   "metadata": {},
   "outputs": [
    {
     "name": "stdout",
     "output_type": "stream",
     "text": [
      "### Sampling using the regional counterfactual rules\n"
     ]
    },
    {
     "name": "stderr",
     "output_type": "stream",
     "text": [
      "100%|█████████████████████████████████████████| 114/114 [06:22<00:00,  3.36s/it]\n"
     ]
    }
   ],
   "source": [
    "results.run_sampling_regional_counterfactuals_alltests(max_obs=x_test.shape[0],batch=1000, max_iter=1000, temp=0.5)"
   ]
  },
  {
   "cell_type": "code",
   "execution_count": 12,
   "id": "f09540e1",
   "metadata": {},
   "outputs": [
    {
     "name": "stdout",
     "output_type": "stream",
     "text": [
      "Regional Accuracy = 0.9298245614035088 -- Regional Coverage = 1.0\n"
     ]
    }
   ],
   "source": [
    "print('Regional Accuracy = {} -- Regional Coverage = {}'.format(results.accuracy_regional, results.coverage_regional))"
   ]
  },
  {
   "cell_type": "code",
   "execution_count": 27,
   "id": "a5eee363",
   "metadata": {},
   "outputs": [
    {
     "data": {
      "text/plain": [
       "0.9565217391304348"
      ]
     },
     "execution_count": 27,
     "metadata": {},
     "output_type": "execute_result"
    }
   ],
   "source": [
    "results.accuracy_local"
   ]
  },
  {
   "cell_type": "code",
   "execution_count": 13,
   "id": "cbc39d94",
   "metadata": {},
   "outputs": [
    {
     "name": "stdout",
     "output_type": "stream",
     "text": [
      "CONSISTENT\n"
     ]
    }
   ],
   "source": [
    "if np.mean(mdl.predict(results.x_test) == results.y_test):\n",
    "    print('CONSISTENT')\n",
    "else:\n",
    "    raise ValueError\n"
   ]
  },
  {
   "cell_type": "code",
   "execution_count": 32,
   "id": "070b0884",
   "metadata": {
    "scrolled": true
   },
   "outputs": [
    {
     "name": "stdout",
     "output_type": "stream",
     "text": [
      "all acc 0.8947368421052632\n"
     ]
    }
   ],
   "source": [
    "x = []\n",
    "for i, c in enumerate(results.counterfactuals_samples_local):\n",
    "    if len(c) !=0:\n",
    "        x.append(results.x_test[i])\n",
    "\n",
    "x = np.array(x)\n",
    "ce = np.array(results.dist_local)\n",
    "ce_r = np.array(results.dist_regional)\n",
    "\n",
    "print('all acc', np.mean(mdl.predict(x_test) != mdl.predict(ce_r)))"
   ]
  },
  {
   "cell_type": "code",
   "execution_count": 33,
   "id": "295e4502",
   "metadata": {},
   "outputs": [
    {
     "name": "stdout",
     "output_type": "stream",
     "text": [
      "LOCAL positive accuracy 1.0\n"
     ]
    }
   ],
   "source": [
    "x_pos = x[mdl.predict(x) == 1]\n",
    "ce_pos = ce[mdl.predict(x) == 1]\n",
    "\n",
    "print('LOCAL positive accuracy', np.mean(mdl.predict(x_pos) != mdl.predict(ce_pos)))"
   ]
  },
  {
   "cell_type": "code",
   "execution_count": 34,
   "id": "5d240afe",
   "metadata": {},
   "outputs": [
    {
     "name": "stdout",
     "output_type": "stream",
     "text": [
      "LOCAL positive sparsity 9.625\n"
     ]
    }
   ],
   "source": [
    "print('LOCAL positive sparsity', np.mean(np.sum(x_pos-ce_pos!=0, axis=1)))"
   ]
  },
  {
   "cell_type": "code",
   "execution_count": 35,
   "id": "27a25ef6",
   "metadata": {},
   "outputs": [
    {
     "name": "stdout",
     "output_type": "stream",
     "text": [
      "LOCAL positive inlier 0.9375\n"
     ]
    }
   ],
   "source": [
    "inlier_pos = np.mean(results.isolation.predict(ce_pos) == 1)\n",
    "print('LOCAL positive inlier', inlier_pos)"
   ]
  },
  {
   "cell_type": "code",
   "execution_count": null,
   "id": "215141d5",
   "metadata": {},
   "outputs": [],
   "source": []
  },
  {
   "cell_type": "code",
   "execution_count": 36,
   "id": "160ad64c",
   "metadata": {},
   "outputs": [
    {
     "name": "stdout",
     "output_type": "stream",
     "text": [
      "LOCAL negative accuracy 1.0\n"
     ]
    }
   ],
   "source": [
    "x_neg = x[mdl.predict(x) == 0]\n",
    "ce_neg = ce[mdl.predict(x) == 0]\n",
    "\n",
    "print('LOCAL negative accuracy', np.mean(mdl.predict(x_neg) != mdl.predict(ce_neg)))"
   ]
  },
  {
   "cell_type": "code",
   "execution_count": 37,
   "id": "235c272b",
   "metadata": {},
   "outputs": [
    {
     "name": "stdout",
     "output_type": "stream",
     "text": [
      "LOCAL negative sparsity 7.285714285714286\n"
     ]
    }
   ],
   "source": [
    "print('LOCAL negative sparsity', np.mean(np.sum(x_neg-ce_neg!=0, axis=1)))"
   ]
  },
  {
   "cell_type": "code",
   "execution_count": 38,
   "id": "b78e62ca",
   "metadata": {},
   "outputs": [
    {
     "name": "stdout",
     "output_type": "stream",
     "text": [
      "LOCAL negative inlier 1.0\n"
     ]
    }
   ],
   "source": [
    "inlier_neg = np.mean(results.isolation.predict(ce_neg) == 1)\n",
    "print('LOCAL negative inlier', inlier_neg)"
   ]
  },
  {
   "cell_type": "code",
   "execution_count": null,
   "id": "3873ec81",
   "metadata": {},
   "outputs": [],
   "source": []
  },
  {
   "cell_type": "code",
   "execution_count": 39,
   "id": "9b1cd140",
   "metadata": {},
   "outputs": [
    {
     "name": "stdout",
     "output_type": "stream",
     "text": [
      "REGIONAL positive accuracy 0.9117647058823529\n"
     ]
    }
   ],
   "source": [
    "x_pos_r = x_test[mdl.predict(x_test) == 1]\n",
    "ce_pos_r = ce_r[mdl.predict(x_test) == 1]\n",
    "\n",
    "print('REGIONAL positive accuracy', np.mean(mdl.predict(x_pos_r) != mdl.predict(ce_pos_r)))"
   ]
  },
  {
   "cell_type": "code",
   "execution_count": 40,
   "id": "3f0b4289",
   "metadata": {},
   "outputs": [
    {
     "name": "stdout",
     "output_type": "stream",
     "text": [
      "REGIONAL positive sparsity 9.955882352941176\n"
     ]
    }
   ],
   "source": [
    "print('REGIONAL positive sparsity', np.mean(np.sum(x_pos_r-ce_pos_r!=0, axis=1)))"
   ]
  },
  {
   "cell_type": "code",
   "execution_count": 41,
   "id": "e2c94e62",
   "metadata": {},
   "outputs": [
    {
     "name": "stdout",
     "output_type": "stream",
     "text": [
      "REGIONAL positive inlier 0.9117647058823529\n"
     ]
    }
   ],
   "source": [
    "inlier_pos = np.mean(results.isolation.predict(ce_pos_r) == 1)\n",
    "print('REGIONAL positive inlier', inlier_pos)"
   ]
  },
  {
   "cell_type": "code",
   "execution_count": null,
   "id": "f43a8e5e",
   "metadata": {},
   "outputs": [],
   "source": []
  },
  {
   "cell_type": "code",
   "execution_count": 42,
   "id": "e1e65659",
   "metadata": {},
   "outputs": [
    {
     "name": "stdout",
     "output_type": "stream",
     "text": [
      "REGIONAL negative accuracy 0.8695652173913043\n"
     ]
    }
   ],
   "source": [
    "x_neg_r = x_test[mdl.predict(x_test) == 0]\n",
    "ce_neg_r = ce_r[mdl.predict(x_test) == 0]\n",
    "\n",
    "print('REGIONAL negative accuracy', np.mean(mdl.predict(x_neg_r) != mdl.predict(ce_neg_r)))"
   ]
  },
  {
   "cell_type": "code",
   "execution_count": 43,
   "id": "6abd2e74",
   "metadata": {},
   "outputs": [
    {
     "name": "stdout",
     "output_type": "stream",
     "text": [
      "REGIONAL negative sparsity 10.0\n"
     ]
    }
   ],
   "source": [
    "print('REGIONAL negative sparsity', np.mean(np.sum(x_neg_r-ce_neg_r!=0, axis=1)))"
   ]
  },
  {
   "cell_type": "code",
   "execution_count": 44,
   "id": "f2c43a63",
   "metadata": {},
   "outputs": [
    {
     "name": "stdout",
     "output_type": "stream",
     "text": [
      "REGIONAL negative inlier 0.9782608695652174\n"
     ]
    }
   ],
   "source": [
    "inlier_neg_r = np.mean(results.isolation.predict(ce_neg_r) == 1)\n",
    "print('REGIONAL negative inlier', inlier_neg_r)"
   ]
  },
  {
   "cell_type": "code",
   "execution_count": null,
   "id": "c18bfc3d",
   "metadata": {},
   "outputs": [],
   "source": []
  },
  {
   "cell_type": "code",
   "execution_count": 45,
   "id": "0c2d2da3",
   "metadata": {},
   "outputs": [
    {
     "name": "stdout",
     "output_type": "stream",
     "text": [
      "Local Coverage = 0.20175438596491227 -- Global Coverage 1.0\n"
     ]
    }
   ],
   "source": [
    "print('Local Coverage = {} -- Global Coverage {}'.format(results.coverage_local, \n",
    "                                                        results.coverage_regional))"
   ]
  }
 ],
 "metadata": {
  "kernelspec": {
   "display_name": "Python 3 (ipykernel)",
   "language": "python",
   "name": "python3"
  },
  "language_info": {
   "codemirror_mode": {
    "name": "ipython",
    "version": 3
   },
   "file_extension": ".py",
   "mimetype": "text/x-python",
   "name": "python",
   "nbconvert_exporter": "python",
   "pygments_lexer": "ipython3",
   "version": "3.8.13"
  }
 },
 "nbformat": 4,
 "nbformat_minor": 5
}
