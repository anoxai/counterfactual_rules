{
 "cells": [
  {
   "cell_type": "code",
   "execution_count": 1,
   "id": "11901a2c",
   "metadata": {},
   "outputs": [
    {
     "name": "stdout",
     "output_type": "stream",
     "text": [
      "* Classifier: LightGBM\n",
      "\t* n_estimators: 50\n",
      "\t* num_leaves: 8\n"
     ]
    }
   ],
   "source": [
    "import numpy as np\n",
    "from acv_explainers import ACXplainer\n",
    "from acv_explainers.utils import *\n",
    "from sklearn.linear_model import LogisticRegression\n",
    "from lightgbm import LGBMClassifier\n",
    "from utils import MyTabNetClassifier\n",
    "from utils import DatasetHelper, DATASETS_NAME\n",
    "from sklearn.metrics import roc_auc_score, accuracy_score\n",
    "from sklearn.datasets import load_breast_cancer\n",
    "from sklearn.model_selection import train_test_split\n",
    "from sklearn.ensemble import IsolationForest\n",
    "import pandas as pd\n",
    "import numpy as np\n",
    "import warnings\n",
    "warnings.filterwarnings('ignore')\n",
    "\n",
    "if(model=='L'):\n",
    "    print('* Classifier: LogisticRegression')\n",
    "    mdl = LogisticRegression(penalty='l2', C=1.0, solver='liblinear')\n",
    "    print('\\t* C: {}'.format(mdl.C)); print('\\t* penalty: {}'.format(mdl.penalty));\n",
    "elif(model=='X'):\n",
    "    print('* Classifier: LightGBM')\n",
    "    mdl = LGBMClassifier(n_estimators=50, num_leaves=8)\n",
    "    print('\\t* n_estimators: {}'.format(mdl.n_estimators)); print('\\t* num_leaves: {}'.format(mdl.num_leaves));\n",
    "elif(model=='T'):\n",
    "    print('* Classifier: TabNet')\n",
    "    mdl = MyTabNetClassifier(D.feature_types, verbose=0)\n",
    "\n",
    "seed = 2022    \n",
    "dataset = 'c'\n",
    "dataset_name = DATASETS_NAME[dataset]\n",
    "model= 'X'\n",
    "np.random.seed(0)\n",
    "\n",
    "D = DatasetHelper(dataset=dataset, feature_prefix_index=False)\n",
    "X_tr, X_ts, y_tr, y_ts = D.train_test_split()\n",
    "\n",
    "isolation = IsolationForest()\n",
    "isolation.fit(X_tr)\n",
    "\n",
    "mdl = LGBMClassifier(n_estimators=50, num_leaves=8)\n",
    "mdl.fit(X_tr, y_tr)\n",
    "\n",
    "x_train = X_tr.copy()\n",
    "x_test = X_ts.copy()"
   ]
  },
  {
   "cell_type": "code",
   "execution_count": 2,
   "id": "0bc99360",
   "metadata": {},
   "outputs": [],
   "source": [
    "results = load_model('/home/xxxxxxx/Documents/experiments_counterfactualsrules2022/COMPASCR_results')"
   ]
  },
  {
   "cell_type": "code",
   "execution_count": 43,
   "id": "ff5e45fa",
   "metadata": {},
   "outputs": [
    {
     "name": "stdout",
     "output_type": "stream",
     "text": [
      "CONSISTENT\n"
     ]
    }
   ],
   "source": [
    "if np.mean(mdl.predict(results.x_test) == results.y_test):\n",
    "    print('CONSISTENT')\n",
    "else:\n",
    "    raise ValueError\n"
   ]
  },
  {
   "cell_type": "code",
   "execution_count": 58,
   "id": "070b0884",
   "metadata": {
    "scrolled": true
   },
   "outputs": [
    {
     "name": "stdout",
     "output_type": "stream",
     "text": [
      "all acc 0.9494163424124513\n"
     ]
    }
   ],
   "source": [
    "x = []\n",
    "for i, c in enumerate(results.counterfactuals_samples_local):\n",
    "    if len(c) !=0:\n",
    "        x.append(results.x_test[i])\n",
    "\n",
    "x = np.array(x)\n",
    "ce = np.array(results.dist_local)\n",
    "ce_r = np.array(results.dist_regional)\n",
    "\n",
    "print('all acc', np.mean(mdl.predict(x_test) != mdl.predict(ce_r)))"
   ]
  },
  {
   "cell_type": "code",
   "execution_count": 59,
   "id": "295e4502",
   "metadata": {},
   "outputs": [
    {
     "name": "stdout",
     "output_type": "stream",
     "text": [
      "LOCAL positive accuracy 0.9945945945945946\n"
     ]
    }
   ],
   "source": [
    "x_pos = x[mdl.predict(x) == 1]\n",
    "ce_pos = ce[mdl.predict(x) == 1]\n",
    "\n",
    "print('LOCAL positive accuracy', np.mean(mdl.predict(x_pos) != mdl.predict(ce_pos)))"
   ]
  },
  {
   "cell_type": "code",
   "execution_count": 60,
   "id": "5d240afe",
   "metadata": {},
   "outputs": [
    {
     "name": "stdout",
     "output_type": "stream",
     "text": [
      "LOCAL positive sparsity 2.2486486486486488\n"
     ]
    }
   ],
   "source": [
    "print('LOCAL positive sparsity', np.mean(np.sum(x_pos-ce_pos!=0, axis=1)))"
   ]
  },
  {
   "cell_type": "code",
   "execution_count": 61,
   "id": "27a25ef6",
   "metadata": {},
   "outputs": [
    {
     "name": "stdout",
     "output_type": "stream",
     "text": [
      "LOCAL positive inlier 0.8756756756756757\n"
     ]
    }
   ],
   "source": [
    "inlier_pos = np.mean(results.isolation.predict(ce_pos) == 1)\n",
    "print('LOCAL positive inlier', inlier_pos)"
   ]
  },
  {
   "cell_type": "code",
   "execution_count": null,
   "id": "215141d5",
   "metadata": {},
   "outputs": [],
   "source": []
  },
  {
   "cell_type": "code",
   "execution_count": 62,
   "id": "160ad64c",
   "metadata": {},
   "outputs": [
    {
     "name": "stdout",
     "output_type": "stream",
     "text": [
      "LOCAL negative accuracy 0.8451178451178452\n"
     ]
    }
   ],
   "source": [
    "x_neg = x[mdl.predict(x) == 0]\n",
    "ce_neg = ce[mdl.predict(x) == 0]\n",
    "\n",
    "print('LOCAL negative accuracy', np.mean(mdl.predict(x_neg) != mdl.predict(ce_neg)))"
   ]
  },
  {
   "cell_type": "code",
   "execution_count": 63,
   "id": "235c272b",
   "metadata": {},
   "outputs": [
    {
     "name": "stdout",
     "output_type": "stream",
     "text": [
      "LOCAL negative sparsity 4.205387205387205\n"
     ]
    }
   ],
   "source": [
    "print('LOCAL negative sparsity', np.mean(np.sum(x_neg-ce_neg!=0, axis=1)))"
   ]
  },
  {
   "cell_type": "code",
   "execution_count": 64,
   "id": "b78e62ca",
   "metadata": {},
   "outputs": [
    {
     "name": "stdout",
     "output_type": "stream",
     "text": [
      "LOCAL negative inlier 0.7373737373737373\n"
     ]
    }
   ],
   "source": [
    "inlier_neg = np.mean(results.isolation.predict(ce_neg) == 1)\n",
    "print('LOCAL negative inlier', inlier_neg)"
   ]
  },
  {
   "cell_type": "code",
   "execution_count": null,
   "id": "3873ec81",
   "metadata": {},
   "outputs": [],
   "source": []
  },
  {
   "cell_type": "code",
   "execution_count": 37,
   "id": "9b1cd140",
   "metadata": {},
   "outputs": [
    {
     "name": "stdout",
     "output_type": "stream",
     "text": [
      "positive accuracy 0.8977635782747604\n"
     ]
    }
   ],
   "source": [
    "x_pos_r = x_test[mdl.predict(x_test) == 1]\n",
    "ce_pos_r = ce_r[mdl.predict(x_test) == 1]\n",
    "\n",
    "print('REGIONAL positive accuracy', np.mean(mdl.predict(x_pos_r) != mdl.predict(ce_pos_r)))"
   ]
  },
  {
   "cell_type": "code",
   "execution_count": 38,
   "id": "3f0b4289",
   "metadata": {},
   "outputs": [
    {
     "name": "stdout",
     "output_type": "stream",
     "text": [
      "positive sparsity 2.912140575079872\n"
     ]
    }
   ],
   "source": [
    "print('REGIONAL positive sparsity', np.mean(np.sum(x_pos_r-ce_pos_r!=0, axis=1)))"
   ]
  },
  {
   "cell_type": "code",
   "execution_count": 39,
   "id": "e2c94e62",
   "metadata": {},
   "outputs": [
    {
     "name": "stdout",
     "output_type": "stream",
     "text": [
      "positive inlier 0.7428115015974441\n"
     ]
    }
   ],
   "source": [
    "inlier_pos = np.mean(results.isolation.predict(ce_pos_r) == 1)\n",
    "print('REGIONAL positive inlier', inlier_pos)"
   ]
  },
  {
   "cell_type": "code",
   "execution_count": null,
   "id": "f43a8e5e",
   "metadata": {},
   "outputs": [],
   "source": []
  },
  {
   "cell_type": "code",
   "execution_count": 40,
   "id": "1bf1f99a",
   "metadata": {},
   "outputs": [
    {
     "name": "stdout",
     "output_type": "stream",
     "text": [
      "negative accuracy 0.9847161572052402\n"
     ]
    }
   ],
   "source": [
    "x_neg_r = x_test[mdl.predict(x_test) == 0]\n",
    "ce_neg_r = ce_r[mdl.predict(x_test) == 0]\n",
    "\n",
    "print('REGIONAL negative accuracy', np.mean(mdl.predict(x_neg_r) != mdl.predict(ce_neg_r)))"
   ]
  },
  {
   "cell_type": "code",
   "execution_count": 41,
   "id": "6abd2e74",
   "metadata": {},
   "outputs": [
    {
     "name": "stdout",
     "output_type": "stream",
     "text": [
      "negative sparsity 3.0731441048034935\n"
     ]
    }
   ],
   "source": [
    "print('REGIONAL negative sparsity', np.mean(np.sum(x_neg_r-ce_neg_r!=0, axis=1)))"
   ]
  },
  {
   "cell_type": "code",
   "execution_count": 42,
   "id": "f2c43a63",
   "metadata": {},
   "outputs": [
    {
     "name": "stdout",
     "output_type": "stream",
     "text": [
      "negative inlier 0.9388646288209607\n"
     ]
    }
   ],
   "source": [
    "inlier_neg_r = np.mean(results.isolation.predict(ce_neg_r) == 1)\n",
    "print('REGIONAL negative inlier', inlier_neg_r)"
   ]
  },
  {
   "cell_type": "code",
   "execution_count": null,
   "id": "c18bfc3d",
   "metadata": {},
   "outputs": [],
   "source": []
  },
  {
   "cell_type": "code",
   "execution_count": 83,
   "id": "0c2d2da3",
   "metadata": {},
   "outputs": [
    {
     "name": "stdout",
     "output_type": "stream",
     "text": [
      "Local Coverage = 0.964 -- Global Coverage 1.0\n"
     ]
    }
   ],
   "source": [
    "print('Local Coverage = {} -- Global Coverage {}'.format(results.coverage_local, \n",
    "                                                        results.coverage_regional))"
   ]
  }
 ],
 "metadata": {
  "kernelspec": {
   "display_name": "Python 3 (ipykernel)",
   "language": "python",
   "name": "python3"
  },
  "language_info": {
   "codemirror_mode": {
    "name": "ipython",
    "version": 3
   },
   "file_extension": ".py",
   "mimetype": "text/x-python",
   "name": "python",
   "nbconvert_exporter": "python",
   "pygments_lexer": "ipython3",
   "version": "3.8.13"
  }
 },
 "nbformat": 4,
 "nbformat_minor": 5
}
