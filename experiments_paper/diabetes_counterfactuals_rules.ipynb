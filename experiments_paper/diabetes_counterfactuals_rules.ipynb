{
 "cells": [
  {
   "cell_type": "markdown",
   "id": "48cb5b14",
   "metadata": {},
   "source": [
    "### Load the data and train ACXplainer to generate Counterfactual Rules"
   ]
  },
  {
   "cell_type": "code",
   "execution_count": 23,
   "id": "11901a2c",
   "metadata": {},
   "outputs": [
    {
     "name": "stdout",
     "output_type": "stream",
     "text": [
      "* Classifier: LightGBM\n",
      "\t* n_estimators: 50\n",
      "\t* num_leaves: 8\n",
      "# Trained ACXplainer -- score = 0.9608540925266904\n"
     ]
    }
   ],
   "source": [
    "import numpy as np\n",
    "from acv_explainers import ACXplainer\n",
    "from acv_explainers.utils import *\n",
    "from sklearn.linear_model import LogisticRegression\n",
    "from lightgbm import LGBMClassifier\n",
    "from utils import MyTabNetClassifier\n",
    "from utils import DatasetHelper, DATASETS_NAME\n",
    "from sklearn.metrics import roc_auc_score, accuracy_score\n",
    "\n",
    "import pandas as pd\n",
    "import numpy as np\n",
    "\n",
    "from sklearn.datasets import load_breast_cancer\n",
    "from sklearn.model_selection import train_test_split\n",
    "\n",
    "import warnings\n",
    "warnings.filterwarnings('ignore')\n",
    "\n",
    "model= 'X'\n",
    "\n",
    "np.random.seed(0)\n",
    "\n",
    "if(model=='L'):\n",
    "    print('* Classifier: LogisticRegression')\n",
    "    mdl = LogisticRegression(penalty='l2', C=1.0, solver='liblinear')\n",
    "    print('\\t* C: {}'.format(mdl.C)); print('\\t* penalty: {}'.format(mdl.penalty));\n",
    "elif(model=='X'):\n",
    "    print('* Classifier: LightGBM')\n",
    "    mdl = LGBMClassifier(n_estimators=50, num_leaves=8)\n",
    "    print('\\t* n_estimators: {}'.format(mdl.n_estimators)); print('\\t* num_leaves: {}'.format(mdl.num_leaves));\n",
    "elif(model=='T'):\n",
    "    print('* Classifier: TabNet')\n",
    "    mdl = MyTabNetClassifier(D.feature_types, verbose=0)\n",
    "\n",
    "seed = 2022    \n",
    "\n",
    "seed = 2022\n",
    "\n",
    "GAMMA = 1.0\n",
    "dataset = 'h'\n",
    "dataset_name = DATASETS_NAME[dataset]\n",
    "model= 'X'\n",
    "\n",
    "np.random.seed(0)\n",
    "LAMBDA = 0.01\n",
    "GAMMA = 1.0\n",
    "\n",
    "D = DatasetHelper(dataset=dataset, feature_prefix_index=False)\n",
    "# X_tr, X_ts, y_tr, y_ts = D.train_test_split()\n",
    "\n",
    "seed = 2022\n",
    "\n",
    "X = pd.read_csv('data/diabetes/train.csv')\n",
    "y = X.Outcome\n",
    "\n",
    "X.drop(['Id', 'Outcome'], axis=1, inplace=True)\n",
    "\n",
    "# X, y = load_breast_cancer(return_X_y=True, as_frame=True)\n",
    "X_tr, X_ts, y_tr, y_ts = train_test_split(X, y, test_size=0.20, random_state=seed)\n",
    "\n",
    "from sklearn.ensemble import IsolationForest\n",
    "\n",
    "isolation = IsolationForest()\n",
    "isolation.fit(X_tr)\n",
    "\n",
    "# y_tr = 1 - y_tr\n",
    "# y_ts = 1 - y_ts\n",
    "\n",
    "mdl = LGBMClassifier(n_estimators=50, num_leaves=8)\n",
    "mdl.fit(X_tr, y_tr)\n",
    "\n",
    "# X = X_tr[mdl.predict(X_tr)==1]; X_vl = X_ts[mdl.predict(X_ts)==1];\n",
    "# print('\\t* train score: ', mdl.score(X_tr, y_tr)); print('\\t* train denied: ', X.shape[0]);\n",
    "# print('\\t* test score: ', mdl.score(X_ts, y_ts)); print('\\t* test denied: ', X_vl.shape[0]); print();\n",
    "\n",
    "x_train = X_tr.copy()\n",
    "x_test = X_ts.copy()\n",
    "\n",
    "y_train = mdl.predict(X_tr)\n",
    "y_test = mdl.predict(X_ts)\n",
    "\n",
    "\n",
    "x_train = x_train.values\n",
    "x_test = x_test.values\n",
    "# y_train = y_train.values\n",
    "# y_test = y_test.values\n",
    "\n",
    "### Train Explainer (ACXplainer)\n",
    "ac_explainer = ACXplainer(classifier=True, n_estimators=20, max_depth=12)\n",
    "ac_explainer.fit(x_train, y_train)\n",
    "\n",
    "print('# Trained ACXplainer -- score = {}'.format(accuracy_score(y_test, ac_explainer.predict(x_test))))\n",
    "\n",
    "# idx = 0\n",
    "# size = idx + 500\n",
    "x, y = x_test[:500], y_test[:500]\n",
    "x_rules, y_rules = x_train[:1000], y_train[:1000]\n",
    "\n",
    "columns_name = [col.replace(' ', '') for col in X_tr.columns]\n",
    "# columns_name = D.feature_names"
   ]
  },
  {
   "cell_type": "code",
   "execution_count": 24,
   "id": "0eead28e",
   "metadata": {},
   "outputs": [],
   "source": [
    "results = RunExperiments(ac_explainer, x_train, x_test, y_train, y_test, columns_name, model=mdl)"
   ]
  },
  {
   "cell_type": "code",
   "execution_count": 25,
   "id": "0dbece47",
   "metadata": {},
   "outputs": [
    {
     "name": "stdout",
     "output_type": "stream",
     "text": [
      "### Computing the local divergent set of (x, y)\n"
     ]
    },
    {
     "name": "stderr",
     "output_type": "stream",
     "text": [
      "100%|███████████████████████████████████████████| 20/20 [00:00<00:00, 96.08it/s]\n",
      " 38%|████████████████▉                            | 3/8 [00:33<00:56, 11.30s/it]\n"
     ]
    }
   ],
   "source": [
    "results.run_local_divergent_set(x, y)"
   ]
  },
  {
   "cell_type": "code",
   "execution_count": 26,
   "id": "917d02e2",
   "metadata": {},
   "outputs": [
    {
     "name": "stdout",
     "output_type": "stream",
     "text": [
      "### Computing the local counterfactual rules of (x, y)\n"
     ]
    },
    {
     "name": "stderr",
     "output_type": "stream",
     "text": [
      "100%|█████████████████████████████████████████| 281/281 [04:24<00:00,  1.06it/s]\n"
     ]
    }
   ],
   "source": [
    "results.run_local_counterfactual_rules(x, y, acc_level=0.9, pi_level=0.9)"
   ]
  },
  {
   "cell_type": "code",
   "execution_count": 27,
   "id": "495a09b2",
   "metadata": {},
   "outputs": [
    {
     "name": "stdout",
     "output_type": "stream",
     "text": [
      "### Computing the local counterfactual rules of (x, y)\n"
     ]
    },
    {
     "name": "stderr",
     "output_type": "stream",
     "text": [
      "100%|█████████████████████████████████████████| 281/281 [04:19<00:00,  1.08it/s]\n"
     ]
    }
   ],
   "source": [
    "results.run_local_counterfactual_rules(x, y, acc_level=0.9, pi_level=0.9)"
   ]
  },
  {
   "cell_type": "code",
   "execution_count": 28,
   "id": "c0c86281",
   "metadata": {},
   "outputs": [
    {
     "name": "stdout",
     "output_type": "stream",
     "text": [
      "### Sampling using the local counterfactual rules of (x, y)\n"
     ]
    },
    {
     "name": "stderr",
     "output_type": "stream",
     "text": [
      "100%|█████████████████████████████████████████| 281/281 [15:53<00:00,  3.39s/it]\n"
     ]
    }
   ],
   "source": [
    "results.run_sampling_local_counterfactuals(x, y, batch=1000, max_iter=1000, temp=0.5)"
   ]
  },
  {
   "cell_type": "code",
   "execution_count": 29,
   "id": "73cc5fca",
   "metadata": {},
   "outputs": [
    {
     "name": "stdout",
     "output_type": "stream",
     "text": [
      "Local Accuracy = 0.961038961038961 -- Local Coverage = 0.8220640569395018\n"
     ]
    }
   ],
   "source": [
    "print('Local Accuracy = {} -- Local Coverage = {}'.format(results.accuracy_local, results.coverage_local))"
   ]
  },
  {
   "cell_type": "code",
   "execution_count": 30,
   "id": "3a7314bf",
   "metadata": {},
   "outputs": [
    {
     "name": "stdout",
     "output_type": "stream",
     "text": [
      "### Computing the Sufficient Explanations and the Sufficient Rules\n"
     ]
    },
    {
     "name": "stderr",
     "output_type": "stream",
     "text": [
      "100%|█████████████████████████████████████████████| 8/8 [00:54<00:00,  6.78s/it]\n",
      "100%|███████████████████████████████████████| 1000/1000 [07:26<00:00,  2.24it/s]\n"
     ]
    }
   ],
   "source": [
    "results.run_sufficient_rules(x_rules, y_rules, pi_level=0.9)"
   ]
  },
  {
   "cell_type": "code",
   "execution_count": 31,
   "id": "349ca92a",
   "metadata": {},
   "outputs": [
    {
     "name": "stdout",
     "output_type": "stream",
     "text": [
      "### Computing the regional divergent set of (x, y)\n"
     ]
    },
    {
     "name": "stderr",
     "output_type": "stream",
     "text": [
      " 38%|████████████████▉                            | 3/8 [02:49<04:42, 56.42s/it]\n"
     ]
    }
   ],
   "source": [
    "results.run_regional_divergent_set(stop=True, pi_level=0.9)"
   ]
  },
  {
   "cell_type": "code",
   "execution_count": 32,
   "id": "ef76b42d",
   "metadata": {},
   "outputs": [
    {
     "name": "stdout",
     "output_type": "stream",
     "text": [
      "### Computing the regional counterfactual rules of (x, y)\n"
     ]
    },
    {
     "name": "stderr",
     "output_type": "stream",
     "text": [
      "100%|███████████████████████████████████████| 1000/1000 [11:00<00:00,  1.51it/s]\n"
     ]
    }
   ],
   "source": [
    "results.run_regional_counterfactual_rules(acc_level=0.9, pi_level=0.9)"
   ]
  },
  {
   "cell_type": "code",
   "execution_count": 33,
   "id": "a019514d",
   "metadata": {},
   "outputs": [
    {
     "name": "stdout",
     "output_type": "stream",
     "text": [
      "### Sampling using the regional counterfactual rules\n"
     ]
    },
    {
     "name": "stderr",
     "output_type": "stream",
     "text": [
      "100%|█████████████████████████████████████████| 281/281 [14:05<00:00,  3.01s/it]\n"
     ]
    }
   ],
   "source": [
    "results.run_sampling_regional_counterfactuals_alltests(max_obs=x_test.shape[0],batch=1000, max_iter=1000, temp=0.5)"
   ]
  },
  {
   "cell_type": "code",
   "execution_count": 34,
   "id": "29a95ef2",
   "metadata": {},
   "outputs": [
    {
     "name": "stdout",
     "output_type": "stream",
     "text": [
      "Regional Accuracy = 0.9948717948717949 -- Regional Coverage = 0.693950177935943\n"
     ]
    }
   ],
   "source": [
    "print('Regional Accuracy = {} -- Regional Coverage = {}'.format(results.accuracy_regional, results.coverage_regional))"
   ]
  },
  {
   "cell_type": "code",
   "execution_count": null,
   "id": "dc1d93ee",
   "metadata": {},
   "outputs": [],
   "source": []
  },
  {
   "cell_type": "code",
   "execution_count": 39,
   "id": "f5855bba",
   "metadata": {},
   "outputs": [
    {
     "name": "stdout",
     "output_type": "stream",
     "text": [
      "CONSISTENT\n"
     ]
    }
   ],
   "source": [
    "if np.mean(mdl.predict(results.x_test) == results.y_test):\n",
    "    print('CONSISTENT')\n",
    "else:\n",
    "    raise ValueError\n"
   ]
  },
  {
   "cell_type": "code",
   "execution_count": 200,
   "id": "070b0884",
   "metadata": {
    "scrolled": true
   },
   "outputs": [
    {
     "name": "stdout",
     "output_type": "stream",
     "text": [
      "all acc 1.0\n"
     ]
    }
   ],
   "source": [
    "x = []\n",
    "for i, c in enumerate(results.counterfactuals_samples_local):\n",
    "    if len(c) !=0:\n",
    "        x.append(results.x_test[i])\n",
    "\n",
    "x = np.array(x)\n",
    "ce = np.array(results.dist_local)\n",
    "ce_r = np.array(results.dist_regional)\n",
    "\n",
    "print('all acc', np.mean(mdl.predict(x_test) != mdl.predict(ce_r)))"
   ]
  },
  {
   "cell_type": "code",
   "execution_count": 201,
   "id": "295e4502",
   "metadata": {},
   "outputs": [
    {
     "name": "stdout",
     "output_type": "stream",
     "text": [
      "LOCAL positive accuracy 0.9714285714285714\n"
     ]
    }
   ],
   "source": [
    "x_pos = x[mdl.predict(x) == 1]\n",
    "ce_pos = ce[mdl.predict(x) == 1]\n",
    "\n",
    "print('LOCAL positive accuracy', np.mean(mdl.predict(x_pos) != mdl.predict(ce_pos)))"
   ]
  },
  {
   "cell_type": "code",
   "execution_count": 202,
   "id": "5d240afe",
   "metadata": {},
   "outputs": [
    {
     "name": "stdout",
     "output_type": "stream",
     "text": [
      "LOCAL positive sparsity 3.4857142857142858\n"
     ]
    }
   ],
   "source": [
    "print('LOCAL positive sparsity', np.mean(np.sum(x_pos-ce_pos!=0, axis=1)))"
   ]
  },
  {
   "cell_type": "code",
   "execution_count": 203,
   "id": "27a25ef6",
   "metadata": {},
   "outputs": [
    {
     "name": "stdout",
     "output_type": "stream",
     "text": [
      "LOCAL positive inlier 0.9904761904761905\n"
     ]
    }
   ],
   "source": [
    "inlier_pos = np.mean(results.isolation.predict(ce_pos) == 1)\n",
    "print('LOCAL positive inlier', inlier_pos)"
   ]
  },
  {
   "cell_type": "code",
   "execution_count": null,
   "id": "215141d5",
   "metadata": {},
   "outputs": [],
   "source": []
  },
  {
   "cell_type": "code",
   "execution_count": 204,
   "id": "160ad64c",
   "metadata": {},
   "outputs": [
    {
     "name": "stdout",
     "output_type": "stream",
     "text": [
      "LOCAL negative accuracy 1.0\n"
     ]
    }
   ],
   "source": [
    "x_neg = x[mdl.predict(x) == 0]\n",
    "ce_neg = ce[mdl.predict(x) == 0]\n",
    "\n",
    "print('LOCAL negative accuracy', np.mean(mdl.predict(x_neg) != mdl.predict(ce_neg)))"
   ]
  },
  {
   "cell_type": "code",
   "execution_count": 205,
   "id": "235c272b",
   "metadata": {},
   "outputs": [
    {
     "name": "stdout",
     "output_type": "stream",
     "text": [
      "LOCAL negative sparsity 3.8174603174603177\n"
     ]
    }
   ],
   "source": [
    "print('LOCAL negative sparsity', np.mean(np.sum(x_neg-ce_neg!=0, axis=1)))"
   ]
  },
  {
   "cell_type": "code",
   "execution_count": 206,
   "id": "b78e62ca",
   "metadata": {},
   "outputs": [
    {
     "name": "stdout",
     "output_type": "stream",
     "text": [
      "LOCAL negative inlier 0.8095238095238095\n"
     ]
    }
   ],
   "source": [
    "inlier_neg = np.mean(results.isolation.predict(ce_neg) == 1)\n",
    "print('LOCAL negative inlier', inlier_neg)"
   ]
  },
  {
   "cell_type": "code",
   "execution_count": null,
   "id": "3873ec81",
   "metadata": {},
   "outputs": [],
   "source": []
  },
  {
   "cell_type": "code",
   "execution_count": 209,
   "id": "e2c94e62",
   "metadata": {},
   "outputs": [
    {
     "name": "stdout",
     "output_type": "stream",
     "text": [
      "REGIONAL positive inlier 0.8782608695652174\n"
     ]
    }
   ],
   "source": [
    "inlier_pos = np.mean(results.isolation.predict(ce_pos_r) == 1)\n",
    "print('REGIONAL positive inlier', inlier_pos)"
   ]
  },
  {
   "cell_type": "code",
   "execution_count": null,
   "id": "f43a8e5e",
   "metadata": {},
   "outputs": [],
   "source": []
  },
  {
   "cell_type": "code",
   "execution_count": 214,
   "id": "049b58fd",
   "metadata": {},
   "outputs": [
    {
     "name": "stdout",
     "output_type": "stream",
     "text": [
      "Regional Accuracy = 0.9948717948717949\n"
     ]
    }
   ],
   "source": [
    "print('Regional Accuracy = {}'.format(results.accuracy_regional))"
   ]
  },
  {
   "cell_type": "code",
   "execution_count": 213,
   "id": "0c2d2da3",
   "metadata": {},
   "outputs": [
    {
     "name": "stdout",
     "output_type": "stream",
     "text": [
      "Local Coverage = 0.8220640569395018 -- Global Coverage 0.693950177935943\n"
     ]
    }
   ],
   "source": [
    "print('Local Coverage = {} -- Global Coverage {}'.format(results.coverage_local, \n",
    "                                                        results.coverage_regional))"
   ]
  },
  {
   "cell_type": "code",
   "execution_count": 42,
   "id": "f1b47559",
   "metadata": {},
   "outputs": [],
   "source": [
    "save_model(results, name='DIDiabetesCR_results')"
   ]
  }
 ],
 "metadata": {
  "kernelspec": {
   "display_name": "Python 3 (ipykernel)",
   "language": "python",
   "name": "python3"
  },
  "language_info": {
   "codemirror_mode": {
    "name": "ipython",
    "version": 3
   },
   "file_extension": ".py",
   "mimetype": "text/x-python",
   "name": "python",
   "nbconvert_exporter": "python",
   "pygments_lexer": "ipython3",
   "version": "3.8.13"
  }
 },
 "nbformat": 4,
 "nbformat_minor": 5
}
